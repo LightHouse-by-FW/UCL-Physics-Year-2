{
 "cells": [
  {
   "cell_type": "markdown",
   "metadata": {},
   "source": [
    "# PHAS0030 Assignment Week 5: \n",
    "\n",
    "We will investigate the heat equation in two forms:\n",
    "\n",
    "First, a 2D steady-state form.\n",
    "\n",
    "Second, a 2D time varying solution.\n",
    "\n",
    "We will be looking at a bar of length 21 metres and width 15 metres. Where at the end of the bar where the length is 21 metres the temperature will be 400 Kelvin, and all other parts at 300 Kelvin.\n",
    "\n",
    "The equation we will be working with is a partial differential equation of the elliptic form:\n",
    "\n",
    "$$\n",
    "\\frac{\\partial^2 \\theta}{\\partial x^2} + \\frac{\\partial^2 \\theta}{\\partial y^2} = 0\n",
    "$$\n",
    "\n",
    "Where:\n",
    "\n",
    "$ x $ is the length of the bar\n",
    "\n",
    "$ y $ is the width of the bar\n",
    "\n",
    "$ \\theta $ is the temperature"
   ]
  },
  {
   "cell_type": "code",
   "execution_count": 1,
   "metadata": {},
   "outputs": [],
   "source": [
    "# Appropriate imports\n",
    "%matplotlib inline\n",
    "import numpy as np\n",
    "import matplotlib.pyplot as plt"
   ]
  },
  {
   "cell_type": "markdown",
   "metadata": {},
   "source": [
    "### 1. Set up the SOR solver"
   ]
  },
  {
   "cell_type": "code",
   "execution_count": 2,
   "metadata": {},
   "outputs": [],
   "source": [
    "def update_SOR(phi, M, N, omega):\n",
    "    \"\"\"\n",
    "    the successive over-relaxation (SOR) method\n",
    "    \n",
    "    Input:\n",
    "    phi = Initial 2D array \n",
    "    M = number of rows\n",
    "    N = number of columns\n",
    "    omega = parameter used for the SOR method\n",
    "    \n",
    "    Output:\n",
    "    phiout = 2D array after SOR has been applied\n",
    "    \n",
    "    \"\"\"\n",
    "    # We exclude i=0, i=M, j=0 and j=N as they are boundaries\n",
    "    \n",
    "    for i in range(1, M-1):\n",
    "        for j in range(1, N-1):\n",
    "            phi[i,j] = ((1 + omega)/4)*(phi[i-1,j] + phi[i+1,j] + phi[i,j-1] + phi[i,j+1]) - omega*phi[i,j]\n",
    "            \n",
    "    phiout = np.copy(phi)\n",
    "    \n",
    "    return phiout"
   ]
  },
  {
   "cell_type": "markdown",
   "metadata": {},
   "source": [
    "### 2. Set up the array and initial conditions"
   ]
  },
  {
   "cell_type": "code",
   "execution_count": 3,
   "metadata": {},
   "outputs": [
    {
     "data": {
      "image/png": "[encoded data removed]",
      "text/plain": [
       "<Figure size 432x288 with 2 Axes>"
      ]
     },
     "metadata": {
      "needs_background": "light"
     },
     "output_type": "display_data"
    }
   ],
   "source": [
    "# dx and dy must be equal\n",
    "dx = 1\n",
    "dy = 1\n",
    "\n",
    "# Length and width of bar\n",
    "length = 21 #m\n",
    "width = 15 #m\n",
    "\n",
    "# Setting up array for intial conditios of bar \n",
    "M = int(length/dx)\n",
    "N = int(width/dy)\n",
    "T1 = 300\n",
    "T2 = 400\n",
    "theta = T1 * np.ones((M, N))\n",
    "theta[M-1,:] = T2\n",
    "\n",
    "# Plot initial guess\n",
    "plt.imshow(theta, origin='lower')\n",
    "plt.colorbar()\n",
    "plt.show()"
   ]
  },
  {
   "cell_type": "markdown",
   "metadata": {},
   "source": [
    "### 3. Run the solver and plot the result"
   ]
  },
  {
   "cell_type": "code",
   "execution_count": 4,
   "metadata": {},
   "outputs": [
    {
     "name": "stdout",
     "output_type": "stream",
     "text": [
      "Finished after  60  iterations\n"
     ]
    }
   ],
   "source": [
    "# Setting omega and tolerance for the SOR function itteration\n",
    "omega = 0.1\n",
    "delta = np.abs(np.max(np.max(theta)))\n",
    "tol = 0.1\n",
    "iter = 0\n",
    "\n",
    "while delta > tol:\n",
    "    thetain = np.copy(theta)\n",
    "    theta = update_SOR(theta, M, N, omega)\n",
    "    delta = np.abs(np.max(np.max(theta - thetain)))\n",
    "    iter += 1\n",
    "    \n",
    "print(\"Finished after \",iter,\" iterations\")"
   ]
  },
  {
   "cell_type": "code",
   "execution_count": 5,
   "metadata": {},
   "outputs": [
    {
     "name": "stdout",
     "output_type": "stream",
     "text": [
      "0.09857724239560639\n"
     ]
    }
   ],
   "source": [
    "delta = np.abs(np.max(np.max(theta - thetain)))\n",
    "\n",
    "print(delta)"
   ]
  },
  {
   "cell_type": "code",
   "execution_count": 6,
   "metadata": {},
   "outputs": [
    {
     "data": {
      "image/png": "[encoded data removed]",
      "text/plain": [
       "<Figure size 432x288 with 2 Axes>"
      ]
     },
     "metadata": {
      "needs_background": "light"
     },
     "output_type": "display_data"
    }
   ],
   "source": [
    "# Final temperature distribution\n",
    "plt.imshow(theta, origin='lower')\n",
    "plt.title(\"Steady state solution to \\n heat equation\")\n",
    "plt.xlabel(r\"width, $ x $\")\n",
    "plt.ylabel(r\"length, $ y $\")\n",
    "plt.colorbar()\n",
    "plt.show()"
   ]
  },
  {
   "cell_type": "markdown",
   "metadata": {},
   "source": [
    "### 4. Time evolution function"
   ]
  },
  {
   "cell_type": "code",
   "execution_count": 7,
   "metadata": {},
   "outputs": [],
   "source": [
    "def update_temperature2D(temper, M, N, zeta):\n",
    "    \"\"\"\n",
    "    Perform explicit forward FD update for heat equation\n",
    "    \n",
    "    Inputs:\n",
    "    temper = Array of temperature at present timestep\n",
    "    n = Temperature timestep to calculate\n",
    "    zeta = Constant of proportionality\n",
    "    \n",
    "    Output:\n",
    "    temper_next = Array of temperature at next timestep\n",
    "    \"\"\"\n",
    "    \n",
    "    for i in range(1, M - 1):\n",
    "        for j in range(1, N - 1):\n",
    "            temper[i,j] = temper[i,j] + zeta*(temper[i + 1,j] + temper[i - 1,j] + temper[i,j + 1] + temper[i,j - 1] - 4*temper[i,j])\n",
    "    \n",
    "    temper_next = np.copy(temper)\n",
    "    \n",
    "    return temper_next"
   ]
  },
  {
   "cell_type": "markdown",
   "metadata": {},
   "source": [
    "### 5. Set up initial conditions"
   ]
  },
  {
   "cell_type": "code",
   "execution_count": 8,
   "metadata": {},
   "outputs": [],
   "source": [
    "# dx and dy must be equal\n",
    "dx = 1\n",
    "dy = 1\n",
    "\n",
    "# Length and width of bar\n",
    "length = 21 #m\n",
    "width = 15 #m\n",
    "\n",
    "# Setting up array for intial conditios of bar \n",
    "M = int(length/dx)\n",
    "N = int(width/dy)\n",
    "T1 = 300\n",
    "T2 = 400\n",
    "theta0 = T1 * np.ones((M, N))\n",
    "theta0[M-1,:] = T2"
   ]
  },
  {
   "cell_type": "markdown",
   "metadata": {},
   "source": [
    "### 6. Propagate the solution and store selected points"
   ]
  },
  {
   "cell_type": "code",
   "execution_count": 9,
   "metadata": {},
   "outputs": [],
   "source": [
    "Nt = 800\n",
    "zeta = 0.1\n",
    "\n",
    "for i in range(Nt):\n",
    "    theta_next = update_temperature2D(theta0, M, N, zeta)\n",
    "    theta0 = theta_next"
   ]
  },
  {
   "cell_type": "code",
   "execution_count": 10,
   "metadata": {},
   "outputs": [
    {
     "data": {
      "image/png": "[encoded data removed]",
      "text/plain": [
       "<Figure size 432x288 with 2 Axes>"
      ]
     },
     "metadata": {
      "needs_background": "light"
     },
     "output_type": "display_data"
    }
   ],
   "source": [
    "# Plot final\n",
    "plt.imshow(theta0, origin='lower')\n",
    "plt.title(\"Solution after \" + str(Nt) + \" \\n time steps\")\n",
    "plt.xlabel(r\"width, $ x $\")\n",
    "plt.ylabel(r\"length, $ y $\")\n",
    "plt.colorbar()\n",
    "plt.show()"
   ]
  },
  {
   "cell_type": "markdown",
   "metadata": {},
   "source": [
    "### Plot the final and steady-state solutions\n",
    "Below we have plotted the fianl temperature maps of both of the functions we wrote above aswell as plotting the difference heat map below."
   ]
  },
  {
   "cell_type": "code",
   "execution_count": 11,
   "metadata": {},
   "outputs": [
    {
     "data": {
      "image/png": "[encoded data removed]",
      "text/plain": [
       "<Figure size 720x360 with 2 Axes>"
      ]
     },
     "metadata": {
      "needs_background": "light"
     },
     "output_type": "display_data"
    }
   ],
   "source": [
    "fig = plt.figure(figsize=(10,5))\n",
    "\n",
    "SOR_fig = fig.add_subplot(121)\n",
    "SOR_im = SOR_fig.imshow(theta, origin='lower')\n",
    "SOR_fig.set_title(\"Steady state solution to \\n heat equation\")\n",
    "plt.xlabel(r\"width, $ x $\")\n",
    "plt.ylabel(r\"length, $ y $\")\n",
    "\n",
    "timeStep_fig = fig.add_subplot(122)\n",
    "timeStep_im = timeStep_fig.imshow(theta0, origin='lower')\n",
    "timeStep_fig.set_title(\"Solution after \" + str(Nt) + \" \\n time steps\")\n",
    "plt.xlabel(r\"width, $ x $\")\n",
    "plt.ylabel(r\"length, $ y $\")\n",
    "\n",
    "plt.show()"
   ]
  },
  {
   "cell_type": "code",
   "execution_count": 12,
   "metadata": {},
   "outputs": [
    {
     "data": {
      "image/png": "[encoded data removed]",
      "text/plain": [
       "<Figure size 432x288 with 2 Axes>"
      ]
     },
     "metadata": {
      "needs_background": "light"
     },
     "output_type": "display_data"
    }
   ],
   "source": [
    "difference = abs(theta - theta0)\n",
    "\n",
    "plt.imshow(difference, origin='lower')\n",
    "plt.title(\"Difference between both of our methods\")\n",
    "plt.xlabel(r\"width, $ x $\")\n",
    "plt.ylabel(r\"length, $ y $\")\n",
    "plt.colorbar()\n",
    "plt.show()"
   ]
  }
 ],
 "metadata": {
  "kernelspec": {
   "display_name": "Python 3",
   "language": "python",
   "name": "python3"
  },
  "language_info": {
   "codemirror_mode": {
    "name": "ipython",
    "version": 3
   },
   "file_extension": ".py",
   "mimetype": "text/x-python",
   "name": "python",
   "nbconvert_exporter": "python",
   "pygments_lexer": "ipython3",
   "version": "3.8.1"
  }
 },
 "nbformat": 4,
 "nbformat_minor": 2
}
