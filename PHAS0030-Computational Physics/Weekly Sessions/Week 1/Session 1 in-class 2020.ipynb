{
 "cells": [
  {
   "cell_type": "markdown",
   "metadata": {},
   "source": [
    "# Session 1 Exercises\n",
    "These are sample answers for the in-class exercises in Session 1 of PHAS0030.  You should make sure that you can do these yourself ! The further work exercises will be in a separate notebook."
   ]
  },
  {
   "cell_type": "code",
   "execution_count": 1,
   "metadata": {},
   "outputs": [],
   "source": [
    "# We always start with appropriate imports; note the use of the IPython magic\n",
    "# command to set up Matplotlib within the notebook\n",
    "%matplotlib inline\n",
    "import numpy as np\n",
    "import matplotlib.pyplot as plt"
   ]
  },
  {
   "cell_type": "markdown",
   "metadata": {},
   "source": [
    "## In-class exercises"
   ]
  },
  {
   "cell_type": "markdown",
   "metadata": {},
   "source": [
    "## Arrays"
   ]
  },
  {
   "cell_type": "markdown",
   "metadata": {},
   "source": [
    "#### Question 1\n",
    "We will set limits and a step size using variables; for `np.arange` we have to add the step to the upper limit to include the upper limit."
   ]
  },
  {
   "cell_type": "code",
   "execution_count": 2,
   "metadata": {},
   "outputs": [
    {
     "name": "stdout",
     "output_type": "stream",
     "text": [
      "[0.  0.1 0.2 0.3 0.4 0.5 0.6 0.7 0.8 0.9 1. ]\n"
     ]
    }
   ],
   "source": [
    "step = 0.1\n",
    "lo_lim = 0.0\n",
    "up_lim = 1.0\n",
    "a = np.arange(lo_lim, up_lim + step, step)\n",
    "print(a)"
   ]
  },
  {
   "cell_type": "markdown",
   "metadata": {},
   "source": [
    "Now with `np.linspace` we have to create a number of points.  The third argument (number of points) should be an integer, so we use the Python function `int`."
   ]
  },
  {
   "cell_type": "code",
   "execution_count": 3,
   "metadata": {},
   "outputs": [
    {
     "name": "stdout",
     "output_type": "stream",
     "text": [
      "[0.  0.1 0.2 0.3 0.4 0.5 0.6 0.7 0.8 0.9 1. ]\n"
     ]
    }
   ],
   "source": [
    "num_points = int((up_lim - lo_lim) / step) + 1\n",
    "b = np.linspace(lo_lim, up_lim, num_points)\n",
    "print(b)"
   ]
  },
  {
   "cell_type": "markdown",
   "metadata": {},
   "source": [
    "#### Question 2\n",
    "Now we have limits and a number of steps (this is the `np.linspace` approach, so it's trivial for `np.linspace`)"
   ]
  },
  {
   "cell_type": "code",
   "execution_count": 4,
   "metadata": {},
   "outputs": [
    {
     "name": "stdout",
     "output_type": "stream",
     "text": [
      "[0.  0.1 0.2 0.3 0.4 0.5 0.6 0.7 0.8 0.9 1. ]\n"
     ]
    }
   ],
   "source": [
    "n_points = 11\n",
    "c = np.linspace(lo_lim, up_lim, n_points)\n",
    "print(c)"
   ]
  },
  {
   "cell_type": "markdown",
   "metadata": {},
   "source": [
    "For `np.arange` we have to work out what the spacing is; notice how we have to reduce the number of points by one to account for the final point."
   ]
  },
  {
   "cell_type": "code",
   "execution_count": 5,
   "metadata": {},
   "outputs": [
    {
     "name": "stdout",
     "output_type": "stream",
     "text": [
      "[0.  0.1 0.2 0.3 0.4 0.5 0.6 0.7 0.8 0.9 1. ]\n"
     ]
    }
   ],
   "source": [
    "step = (up_lim - lo_lim)/(n_points-1)\n",
    "d = np.arange(lo_lim, up_lim+step, step)\n",
    "print(d)"
   ]
  },
  {
   "cell_type": "markdown",
   "metadata": {},
   "source": [
    "#### Question 3\n",
    "\n",
    "Notice how we can use `array[-5:]` to start at the fifth entry from the end of the array."
   ]
  },
  {
   "cell_type": "code",
   "execution_count": 6,
   "metadata": {},
   "outputs": [
    {
     "name": "stdout",
     "output_type": "stream",
     "text": [
      "[0 1 2 3 4]\n",
      "[45 46 47 48 49]\n",
      "[45 46 47 48 49]\n",
      "[ 0  5 10 15 20 25 30 35 40 45]\n"
     ]
    }
   ],
   "source": [
    "len_S3Q2 = 50\n",
    "array_S3Q2 = np.arange(len_S3Q2)\n",
    "print(array_S3Q2[:5])\n",
    "print(array_S3Q2[len_S3Q2-5:])\n",
    "print(array_S3Q2[-5:])\n",
    "print(array_S3Q2[::5])"
   ]
  },
  {
   "cell_type": "markdown",
   "metadata": {},
   "source": [
    "#### Question 4"
   ]
  },
  {
   "cell_type": "code",
   "execution_count": 7,
   "metadata": {},
   "outputs": [
    {
     "name": "stdout",
     "output_type": "stream",
     "text": [
      "[49  0  1  2  3  4  5  6  7  8  9 10 11 12 13 14 15 16 17 18 19 20 21 22\n",
      " 23 24 25 26 27 28 29 30 31 32 33 34 35 36 37 38 39 40 41 42 43 44 45 46\n",
      " 47 48]\n",
      "[ 1  2  3  4  5  6  7  8  9 10 11 12 13 14 15 16 17 18 19 20 21 22 23 24\n",
      " 25 26 27 28 29 30 31 32 33 34 35 36 37 38 39 40 41 42 43 44 45 46 47 48\n",
      " 49  0]\n"
     ]
    }
   ],
   "source": [
    "lshift = -1\n",
    "rshift = 1\n",
    "print(np.roll(array_S3Q2,rshift))\n",
    "print(np.roll(array_S3Q2,lshift))"
   ]
  },
  {
   "cell_type": "markdown",
   "metadata": {},
   "source": [
    "By appending two array slices we can generate the same result, but it is more complicated (and likely to give more errors).  `np.append` joins two arrays; `np.concatenate` can join more than two."
   ]
  },
  {
   "cell_type": "code",
   "execution_count": 8,
   "metadata": {},
   "outputs": [
    {
     "name": "stdout",
     "output_type": "stream",
     "text": [
      "[49  0  1  2  3  4  5  6  7  8  9 10 11 12 13 14 15 16 17 18 19 20 21 22\n",
      " 23 24 25 26 27 28 29 30 31 32 33 34 35 36 37 38 39 40 41 42 43 44 45 46\n",
      " 47 48]\n",
      "[ 1  2  3  4  5  6  7  8  9 10 11 12 13 14 15 16 17 18 19 20 21 22 23 24\n",
      " 25 26 27 28 29 30 31 32 33 34 35 36 37 38 39 40 41 42 43 44 45 46 47 48\n",
      " 49  0]\n"
     ]
    }
   ],
   "source": [
    "print(np.append(array_S3Q2[lshift:],array_S3Q2[0:lshift]))\n",
    "print(np.append(array_S3Q2[rshift:],array_S3Q2[0:rshift]))"
   ]
  },
  {
   "cell_type": "markdown",
   "metadata": {},
   "source": [
    "Notice how we can implement the shift left or right using slicing and negative indices, but that this gives apparently opposite behaviour to the `np.roll` function.  With the roll, the shift parameter is _subtracted off_ the index (so that 0 becomes -1, say, which is the final element)."
   ]
  },
  {
   "cell_type": "markdown",
   "metadata": {},
   "source": [
    "#### Question 5"
   ]
  },
  {
   "cell_type": "code",
   "execution_count": 9,
   "metadata": {},
   "outputs": [
    {
     "name": "stdout",
     "output_type": "stream",
     "text": [
      "[[ 0  5 10 15 20]\n",
      " [25 30 35 40 45]]\n"
     ]
    }
   ],
   "source": [
    "print(np.reshape(array_S3Q2[::5],(2,5)))"
   ]
  },
  {
   "cell_type": "markdown",
   "metadata": {},
   "source": [
    "#### Question 6\n",
    "After printing the whole array"
   ]
  },
  {
   "cell_type": "code",
   "execution_count": 10,
   "metadata": {},
   "outputs": [
    {
     "name": "stdout",
     "output_type": "stream",
     "text": [
      "[[ 0  1  2  3  4  5  6  7  8  9]\n",
      " [10 11 12 13 14 15 16 17 18 19]\n",
      " [20 21 22 23 24 25 26 27 28 29]\n",
      " [30 31 32 33 34 35 36 37 38 39]\n",
      " [40 41 42 43 44 45 46 47 48 49]\n",
      " [50 51 52 53 54 55 56 57 58 59]\n",
      " [60 61 62 63 64 65 66 67 68 69]\n",
      " [70 71 72 73 74 75 76 77 78 79]\n",
      " [80 81 82 83 84 85 86 87 88 89]\n",
      " [90 91 92 93 94 95 96 97 98 99]]\n",
      "The third row (index 2) is:  [20 21 22 23 24 25 26 27 28 29]\n",
      "The fourth column (index 3) is:  [ 3 13 23 33 43 53 63 73 83 93]\n",
      "Here is a sub-matrix:  [[22 23]\n",
      " [32 33]]\n"
     ]
    }
   ],
   "source": [
    "array_S3Q7 = np.reshape(np.arange(100),(10,10))\n",
    "print(array_S3Q7)\n",
    "print(\"The third row (index 2) is: \",array_S3Q7[2,])\n",
    "print(\"The fourth column (index 3) is: \",array_S3Q7[:,3])\n",
    "print(\"Here is a sub-matrix: \",array_S3Q7[2:4,2:4])"
   ]
  },
  {
   "cell_type": "markdown",
   "metadata": {},
   "source": [
    "## Matplotlib\n",
    "I will not give details of question 1 here, which is just revision\n",
    "\n",
    "#### Question 2"
   ]
  },
  {
   "cell_type": "code",
   "execution_count": 11,
   "metadata": {},
   "outputs": [
    {
     "data": {
      "text/plain": [
       "Text(0.5, 1.0, 'Plot of cosine function')"
      ]
     },
     "execution_count": 11,
     "metadata": {},
     "output_type": "execute_result"
    },
    {
     "data": {
      "image/png": "[encoded data removed]",
      "text/plain": [
       "<Figure size 1008x360 with 2 Axes>"
      ]
     },
     "metadata": {
      "needs_background": "light"
     },
     "output_type": "display_data"
    }
   ],
   "source": [
    "fig1 = plt.figure(figsize=(14,5))\n",
    "ax1 = fig1.add_subplot(121)\n",
    "x = np.linspace(0,2*np.pi,101)\n",
    "ax1.plot(x,np.sin(x),'b-')\n",
    "ax1.set_xlabel(\"Angle/radians\")\n",
    "ax1.set_ylabel(\"sin(angle)\")\n",
    "ax1.set_title(\"Plot of sine function\")\n",
    "ax2 = fig1.add_subplot(122)\n",
    "ax2.plot(x,np.cos(x),'g-.')\n",
    "ax2.set_xlabel(\"Angle/radians\")\n",
    "ax2.set_ylabel(\"cos(angle)\")\n",
    "ax2.set_title(\"Plot of cosine function\")"
   ]
  },
  {
   "cell_type": "markdown",
   "metadata": {},
   "source": [
    "#### Question 3\n",
    "We create the 2D arrays of x and y positions using `np.meshgrid` so that we can calculate the distance (`r2D`) with a single line.  Note that we could have used `x2D**2` instead.  I've used an option to `plt.imshow` to move the origin of the plot, and added a colour bar so that we can understand the plot."
   ]
  },
  {
   "cell_type": "code",
   "execution_count": 12,
   "metadata": {},
   "outputs": [
    {
     "data": {
      "text/plain": [
       "<matplotlib.colorbar.Colorbar at 0x11ca45908>"
      ]
     },
     "execution_count": 12,
     "metadata": {},
     "output_type": "execute_result"
    },
    {
     "data": {
      "image/png": "[encoded data removed]",
      "text/plain": [
       "<Figure size 432x288 with 2 Axes>"
      ]
     },
     "metadata": {
      "needs_background": "light"
     },
     "output_type": "display_data"
    }
   ],
   "source": [
    "x = np.arange(0,10,1)\n",
    "y = np.arange(0,10,1)\n",
    "x2D, y2D = np.meshgrid(x,y)\n",
    "r2D = np.sqrt(x2D*x2D + y2D*y2D)\n",
    "plt.imshow(r2D,origin='lower')\n",
    "plt.xlabel(\"x\")\n",
    "plt.ylabel(\"y\")\n",
    "plt.colorbar()"
   ]
  },
  {
   "cell_type": "markdown",
   "metadata": {},
   "source": [
    "## Loops and control\n",
    "for loops"
   ]
  },
  {
   "cell_type": "markdown",
   "metadata": {},
   "source": [
    "#### Question 1\n",
    "Python lists (which is what `a` is) are a little different to NumPy arrays.  One key difference is the ability to add new entries using `append`.  We could convert to a NumPy array after doing this with `a_np = np.array(a)`."
   ]
  },
  {
   "cell_type": "code",
   "execution_count": 13,
   "metadata": {},
   "outputs": [
    {
     "name": "stdout",
     "output_type": "stream",
     "text": [
      "[1, 2, 3, 4, 5, 2, 4, 6, 8, 10, 3, 6, 9, 12, 15, 4, 8, 12, 16, 20, 5, 10, 15, 20, 25]\n"
     ]
    }
   ],
   "source": [
    "a = []\n",
    "for i in range(1,6):\n",
    "    for j in range(1,6):\n",
    "        a.append(i*j)\n",
    "print(a)"
   ]
  },
  {
   "cell_type": "markdown",
   "metadata": {},
   "source": [
    "#### Question 2\n",
    "Notice that this gives an *identical* result to the previous answer.  We could make a NumPy array in one go by enclosing the list comprehension (everything in the square brackets) in a `np.array()` call."
   ]
  },
  {
   "cell_type": "code",
   "execution_count": 14,
   "metadata": {},
   "outputs": [
    {
     "name": "stdout",
     "output_type": "stream",
     "text": [
      "[1, 2, 3, 4, 5, 2, 4, 6, 8, 10, 3, 6, 9, 12, 15, 4, 8, 12, 16, 20, 5, 10, 15, 20, 25]\n"
     ]
    }
   ],
   "source": [
    "a = [i*j for i in range(1,6) for j in range(1,6)]\n",
    "print(a)"
   ]
  },
  {
   "cell_type": "markdown",
   "metadata": {},
   "source": [
    "#### Question 3\n",
    "Note that the call to `np.reshape` will also convert the list to a NumPy array."
   ]
  },
  {
   "cell_type": "code",
   "execution_count": 15,
   "metadata": {},
   "outputs": [
    {
     "name": "stdout",
     "output_type": "stream",
     "text": [
      "[[ 1  2  3  4  5]\n",
      " [ 2  4  6  8 10]\n",
      " [ 3  6  9 12 15]\n",
      " [ 4  8 12 16 20]\n",
      " [ 5 10 15 20 25]]\n"
     ]
    }
   ],
   "source": [
    "array_S4Q4 = np.reshape([i*j for i in range(1,6) for j in range(1,6)], (5,5))\n",
    "print(array_S4Q4)"
   ]
  },
  {
   "cell_type": "markdown",
   "metadata": {},
   "source": [
    "#### Question 4\n",
    "This is a compact way of storing the result but it might lack clarity; always be careful to make sure that your code is clear."
   ]
  },
  {
   "cell_type": "code",
   "execution_count": 16,
   "metadata": {},
   "outputs": [
    {
     "name": "stdout",
     "output_type": "stream",
     "text": [
      "[1, 0, 0, 0, 0, 2, 4, 0, 0, 0, 3, 6, 9, 0, 0, 4, 8, 12, 16, 0, 5, 10, 15, 20, 25]\n"
     ]
    }
   ],
   "source": [
    "a = []\n",
    "for i in range(1,6):\n",
    "    for j in range(1,6):\n",
    "        a.append(i*j if j<i+1 else 0)\n",
    "print(a)"
   ]
  },
  {
   "cell_type": "markdown",
   "metadata": {},
   "source": [
    "This combination of for loops and if statements does the same thing.  Think about which might be clearer, particularly in a more complex case."
   ]
  },
  {
   "cell_type": "code",
   "execution_count": 17,
   "metadata": {},
   "outputs": [
    {
     "name": "stdout",
     "output_type": "stream",
     "text": [
      "[1, 0, 0, 0, 0, 2, 4, 0, 0, 0, 3, 6, 9, 0, 0, 4, 8, 12, 16, 0, 5, 10, 15, 20, 25]\n"
     ]
    }
   ],
   "source": [
    "a = []\n",
    "for i in range(1,6):\n",
    "    for j in range(1,6):\n",
    "        if j<i+1:\n",
    "            a.append(i*j)\n",
    "        else: \n",
    "            a.append(0)\n",
    "print(a)"
   ]
  },
  {
   "cell_type": "markdown",
   "metadata": {},
   "source": [
    "### While and if"
   ]
  },
  {
   "cell_type": "markdown",
   "metadata": {},
   "source": [
    "#### Question 1\n",
    "Note that in this case the else clause isn't needed; I wanted you to see how to use `continue`."
   ]
  },
  {
   "cell_type": "code",
   "execution_count": 18,
   "metadata": {},
   "outputs": [
    {
     "name": "stdout",
     "output_type": "stream",
     "text": [
      "2  squared is  4\n",
      "4  squared is  16\n",
      "6  squared is  36\n",
      "8  squared is  64\n",
      "10  squared is  100\n",
      "12  squared is  144\n",
      "14  squared is  196\n",
      "16  squared is  256\n",
      "18  squared is  324\n",
      "20  squared is  400\n"
     ]
    }
   ],
   "source": [
    "for i in range(1,21):\n",
    "    if i%2 == 0:\n",
    "        print(i,\" squared is \",i*i)\n",
    "    else:\n",
    "        continue"
   ]
  },
  {
   "cell_type": "markdown",
   "metadata": {},
   "source": [
    "#### Question 2\n",
    "This is a relatively simplistic implementation; we shouldn't be testing all factors from 2 to `sqrt(i)` (just the prime factors) but that would complicate the code.  The `else` clause for `while` is a nice way to output a prime number only."
   ]
  },
  {
   "cell_type": "code",
   "execution_count": 19,
   "metadata": {},
   "outputs": [
    {
     "name": "stdout",
     "output_type": "stream",
     "text": [
      "1  is prime\n",
      "2  is prime\n",
      "3  is prime\n",
      "5  is prime\n",
      "7  is prime\n",
      "11  is prime\n",
      "13  is prime\n",
      "17  is prime\n",
      "19  is prime\n",
      "23  is prime\n",
      "29  is prime\n",
      "31  is prime\n",
      "37  is prime\n",
      "41  is prime\n",
      "43  is prime\n",
      "47  is prime\n",
      "53  is prime\n",
      "59  is prime\n",
      "61  is prime\n",
      "67  is prime\n",
      "71  is prime\n",
      "73  is prime\n",
      "79  is prime\n",
      "83  is prime\n",
      "89  is prime\n",
      "97  is prime\n"
     ]
    }
   ],
   "source": [
    "for i in range(1,101):\n",
    "    limit = np.sqrt(i)\n",
    "    factor = 2\n",
    "    while factor <= limit:\n",
    "        if i%factor==0:\n",
    "            break # We have found a factor, so this is not prime\n",
    "        factor += 1\n",
    "    else: # here the else is only executed when we end the loop\n",
    "        print(i,\" is prime\")"
   ]
  },
  {
   "cell_type": "markdown",
   "metadata": {},
   "source": [
    "#### Question 3\n",
    "If we enumerate a 2D array then we get a set of 1D arrays (the array is returned in `v` while the index is returned in `i`).  Note that if you did something like `print(array_S5Q3[0])` you would get `[0 1 2 3 4]`."
   ]
  },
  {
   "cell_type": "code",
   "execution_count": 20,
   "metadata": {},
   "outputs": [
    {
     "name": "stdout",
     "output_type": "stream",
     "text": [
      "[[0 1 2 3 4]\n",
      " [5 6 7 8 9]]\n",
      "Enumerate for i and v gives:  0 [0 1 2 3 4]\n",
      "0 0 0\n",
      "0 1 1\n",
      "0 2 2\n",
      "0 3 3\n",
      "0 4 4\n",
      "Enumerate for i and v gives:  1 [5 6 7 8 9]\n",
      "1 0 5\n",
      "1 1 6\n",
      "1 2 7\n",
      "1 3 8\n",
      "1 4 9\n",
      "[0 1 2 3 4]\n",
      "[5 6 7 8 9]\n"
     ]
    }
   ],
   "source": [
    "array_S5Q3 = np.reshape(np.arange(10),(2,5))\n",
    "print(array_S5Q3)\n",
    "for i, v in enumerate(array_S5Q3):\n",
    "    print(\"Enumerate for i and v gives: \", i, v)\n",
    "    for j, w in enumerate(v):\n",
    "        print(i, j, w)\n",
    "print(array_S5Q3[0])\n",
    "print(array_S5Q3[1])"
   ]
  },
  {
   "cell_type": "markdown",
   "metadata": {},
   "source": [
    "## Functions"
   ]
  },
  {
   "cell_type": "markdown",
   "metadata": {},
   "source": [
    "#### Question 1\n",
    "Here I've chosen to start at 1 and increase until we reach `n`.  Note that we automatically catch the situation when `n` is zero."
   ]
  },
  {
   "cell_type": "code",
   "execution_count": 21,
   "metadata": {},
   "outputs": [],
   "source": [
    "def factorial(n): \n",
    "    '''Calculates the value of n!  Returns zero for \n",
    "       negative input and rounds down to nearest integer\n",
    "\n",
    "       Input:   n (number whose factorial is required)\n",
    "       Outputs: n!\n",
    "    '''\n",
    "\n",
    "    # Catch negative exception\n",
    "    if n<0:\n",
    "        return 0\n",
    "\n",
    "    # Round down and do first step\n",
    "    round_n = round(n)\n",
    "    fac = 1\n",
    "    next_number = 2\n",
    "    # Loop over next numbers\n",
    "    while next_number<=round_n:\n",
    "        fac *= next_number\n",
    "        next_number += 1\n",
    "    return fac"
   ]
  },
  {
   "cell_type": "code",
   "execution_count": 22,
   "metadata": {},
   "outputs": [
    {
     "name": "stdout",
     "output_type": "stream",
     "text": [
      "120\n",
      "1\n",
      "0\n"
     ]
    }
   ],
   "source": [
    "print(factorial(5))\n",
    "print(factorial(0))\n",
    "print(factorial(-1))"
   ]
  },
  {
   "cell_type": "markdown",
   "metadata": {},
   "source": [
    "#### Question 2"
   ]
  },
  {
   "cell_type": "code",
   "execution_count": 23,
   "metadata": {},
   "outputs": [],
   "source": [
    "def fibonacci(n):\n",
    "    \"\"\"Simple Fibonacci number generator: for input n, returns nth term\"\"\"\n",
    "    if n == 0: return 0\n",
    "    if n == 1: return 1\n",
    "    return fibonacci(n-1) + fibonacci(n-2)"
   ]
  },
  {
   "cell_type": "markdown",
   "metadata": {},
   "source": [
    "Note that the function above is **recursive**: it calls itself.  It will get *very* slow when you go to a large number.  It would be better to start with the first two numbers and go upwards."
   ]
  },
  {
   "cell_type": "markdown",
   "metadata": {},
   "source": [
    "#### Questions 3 to 6\n",
    "As these form part of the assignment, I will not give worked answers.  However, I will give a simple implementation of a distance function so that you can see what the potential should roughly look like.  I then test it using the existing arrays `x2D` and `y2D`.  I've also shown how you can use `plt.plot` to add a single point onto an image."
   ]
  },
  {
   "cell_type": "code",
   "execution_count": 24,
   "metadata": {},
   "outputs": [],
   "source": [
    "def distance(x0,y0,x,y):\n",
    "    \"\"\"Calculate the distance from a specified point\n",
    "    to a general point or array of points\n",
    "    \n",
    "    Inputs:\n",
    "    x0, y0 Two floats giving the specified point\n",
    "    x, y   Floats or arrays of floats giving points at which to find distance\n",
    "    \n",
    "    Output:\n",
    "    r Distance from (x,y) to (x0,y0) with same type as x and y\n",
    "    \"\"\"\n",
    "    r = np.sqrt((x-x0)**2 + (y-y0)**2)\n",
    "    return r"
   ]
  },
  {
   "cell_type": "code",
   "execution_count": 25,
   "metadata": {},
   "outputs": [
    {
     "data": {
      "text/plain": [
       "<matplotlib.colorbar.Colorbar at 0x11cbfac50>"
      ]
     },
     "execution_count": 25,
     "metadata": {},
     "output_type": "execute_result"
    },
    {
     "data": {
      "image/png": "[encoded data removed]",
      "text/plain": [
       "<Figure size 432x288 with 2 Axes>"
      ]
     },
     "metadata": {
      "needs_background": "light"
     },
     "output_type": "display_data"
    }
   ],
   "source": [
    "# Define point (e.g. position of charge)\n",
    "x0 = 2.5\n",
    "y0 = 2.5\n",
    "# Calculate distance\n",
    "r2D = distance(2.5,2.5,x2D,y2D)\n",
    "# Plot distance and include point as red circle\n",
    "plt.imshow(r2D,origin='lower')\n",
    "plt.plot(x0,y0,'ro')\n",
    "plt.colorbar()"
   ]
  },
  {
   "cell_type": "code",
   "execution_count": null,
   "metadata": {},
   "outputs": [],
   "source": []
  }
 ],
 "metadata": {
  "kernelspec": {
   "display_name": "Python 3",
   "language": "python",
   "name": "python3"
  },
  "language_info": {
   "codemirror_mode": {
    "name": "ipython",
    "version": 3
   },
   "file_extension": ".py",
   "mimetype": "text/x-python",
   "name": "python",
   "nbconvert_exporter": "python",
   "pygments_lexer": "ipython3",
   "version": "3.7.3"
  }
 },
 "nbformat": 4,
 "nbformat_minor": 2
}
