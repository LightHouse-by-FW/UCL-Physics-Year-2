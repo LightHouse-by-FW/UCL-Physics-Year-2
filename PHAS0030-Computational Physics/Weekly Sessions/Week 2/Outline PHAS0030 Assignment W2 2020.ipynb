{
 "cells": [
  {
   "cell_type": "markdown",
   "metadata": {},
   "source": [
    "# Minimum Energy Point of Quantum Harmonic Oscillators\n",
    "\n",
    "## Frederico Wieser 18018699\n",
    "\n",
    "In this notebook we will use numpy, scipy and matplotlib to explore quantum harmonic oscillators, their wavefunctions, corresponding energy, and gradients.\n",
    "\n",
    "We will use atomic untis in this notebook, for effeciency in our calculations and clarity in the work.\n",
    "\n",
    "Which correpsonds to $ \\hbar = m_e = 1 $"
   ]
  },
  {
   "cell_type": "code",
   "execution_count": 1,
   "metadata": {},
   "outputs": [],
   "source": [
    "import numpy as np\n",
    "import matplotlib.pyplot as plt"
   ]
  },
  {
   "cell_type": "markdown",
   "metadata": {},
   "source": [
    "### Section on 1D QHO\n",
    "\n",
    "Our 1 dimensional wavefunction is\n",
    "\n",
    "$$ \\psi(x) = (2 \\alpha / \\pi)^{1/4} e^{-\\alpha x^2} $$\n",
    "\n",
    "which can be shown to have a corresponding energy of\n",
    "\n",
    "$$ E_{GS} = \\frac{\\alpha}{2} + \\frac{1}{8\\alpha} $$"
   ]
  },
  {
   "cell_type": "code",
   "execution_count": 2,
   "metadata": {},
   "outputs": [],
   "source": [
    "def bisection(fun,a,b,tol):\n",
    "    \"\"\"\n",
    "    A root-finding algorithm for functions where you input\n",
    "    values of upper and lower bound, which the root lies between.\n",
    "    Returning the number of itterations to satisfy tolerance,\n",
    "    and estimate for c, the root.\n",
    "    \n",
    "    Inputs:\n",
    "    a = lower bound\n",
    "    b = upper bound\n",
    "    tol = tolerance of uncertainty in c\n",
    "    fun = function you are finding root\n",
    "    \"\"\"\n",
    "    \n",
    "    tol_value = abs(a-b)\n",
    "    \n",
    "    i = 0 # Counter\n",
    "    \n",
    "    while tol_value > tol:\n",
    "    \n",
    "        # Calculate C\n",
    "        c = (a + b)/2\n",
    "\n",
    "        # Evaluate f(a) and f(b)\n",
    "        f_a = fun(a)\n",
    "        f_b = fun(b)\n",
    "        f_c = fun(c)\n",
    "\n",
    "        # Calculate signs \n",
    "        f_a_sign = np.sign(f_a)\n",
    "        f_c_sign = np.sign(f_c)\n",
    "\n",
    "        # If statement to replace a or b with c\n",
    "        # depending on sign of f_c\n",
    "        if f_a_sign == f_c_sign:\n",
    "            a = c\n",
    "        else:\n",
    "            b = c\n",
    "        \n",
    "        i += 1\n",
    "        tol_value = abs(a-b)\n",
    "    \n",
    "    return c, i"
   ]
  },
  {
   "cell_type": "code",
   "execution_count": 3,
   "metadata": {},
   "outputs": [],
   "source": [
    "def QHO_E(alpha):\n",
    "    \"\"\"\n",
    "    Energy function for 1-Dimensional Wave Equation.\n",
    "    \"\"\"\n",
    "    \n",
    "    a = alpha\n",
    "    \n",
    "    E_GS =  (a/2) + (1/(8*a))\n",
    "    \n",
    "    return E_GS"
   ]
  },
  {
   "cell_type": "code",
   "execution_count": 4,
   "metadata": {},
   "outputs": [],
   "source": [
    "def QHO_grad(alpha):\n",
    "    \"\"\"\n",
    "    Energy gradient function for 1-Dimensional Wave Equation, with\n",
    "    respect to alpha.\n",
    "    \"\"\"\n",
    "    \n",
    "    a = alpha\n",
    "    \n",
    "    dE_GS_da = 0.5 - (1/(8*(a**2)))\n",
    "    \n",
    "    return dE_GS_da"
   ]
  },
  {
   "cell_type": "code",
   "execution_count": 5,
   "metadata": {},
   "outputs": [
    {
     "data": {
      "text/plain": [
       "[<matplotlib.lines.Line2D at 0x7ff97cb9c400>]"
      ]
     },
     "execution_count": 5,
     "metadata": {},
     "output_type": "execute_result"
    },
    {
     "data": {
      "image/png": "[encoded data removed]",
      "text/plain": [
       "<Figure size 432x288 with 1 Axes>"
      ]
     },
     "metadata": {
      "needs_background": "light"
     },
     "output_type": "display_data"
    }
   ],
   "source": [
    "x = np.linspace(0.4,0.8,100)\n",
    "\n",
    "plt.plot(x, QHO_grad(x))\n"
   ]
  },
  {
   "cell_type": "code",
   "execution_count": 6,
   "metadata": {},
   "outputs": [
    {
     "name": "stdout",
     "output_type": "stream",
     "text": [
      "0.5 1\n"
     ]
    }
   ],
   "source": [
    "# Define brackets and tolerance\n",
    "a = 0.45\n",
    "b = 0.55\n",
    "tol = 0.1\n",
    "\n",
    "# Output result\n",
    "alpha, n = bisection(QHO_grad,a,b,tol)\n",
    "print(alpha, n)"
   ]
  },
  {
   "cell_type": "markdown",
   "metadata": {},
   "source": [
    "### Section on 2D QHO\n",
    "Now we turn to the 2D QHO"
   ]
  },
  {
   "cell_type": "code",
   "execution_count": 7,
   "metadata": {},
   "outputs": [],
   "source": [
    "def QHO_2D_E(x):\n",
    "    \"\"\"Docstring\"\"\"\n",
    "    \n",
    "    a = x[0]\n",
    "    b = x[1]\n",
    "    \n",
    "    a2D, b2D = np.meshgrid(a, b)\n",
    "    \n",
    "    E_GS = (a2D/2) + (1/(8*a2D)) + (b2D/2) + (1/(8*b2D))\n",
    "    \n",
    "    return E_GS"
   ]
  },
  {
   "cell_type": "code",
   "execution_count": 8,
   "metadata": {},
   "outputs": [],
   "source": [
    "def QHO_2D_grad(x):\n",
    "    \"\"\"Docstring\"\"\"\n",
    "\n",
    "    a = x[0]\n",
    "    b = x[1]\n",
    "    \n",
    "    dE_GS_da = 0.5 - (1/(8*(a**2)))\n",
    "    \n",
    "    dE_GS_db = 0.5 - (1/(8*(b**2)))\n",
    "    \n",
    "    return np.array([dE_GS_da ,dE_GS_db])"
   ]
  },
  {
   "cell_type": "code",
   "execution_count": 9,
   "metadata": {},
   "outputs": [
    {
     "data": {
      "text/plain": [
       "<matplotlib.colorbar.Colorbar at 0x7ff97c4942e0>"
      ]
     },
     "execution_count": 9,
     "metadata": {},
     "output_type": "execute_result"
    },
    {
     "data": {
      "image/png": "[encoded data removed]",
      "text/plain": [
       "<Figure size 432x288 with 2 Axes>"
      ]
     },
     "metadata": {
      "needs_background": "light"
     },
     "output_type": "display_data"
    }
   ],
   "source": [
    "# You might want to plot the 2D function\n",
    "alpha = np.linspace(0.1,1,100)\n",
    "beta = np.linspace(0.1,1,100)\n",
    "\n",
    "x = np.array([alpha, beta])\n",
    "\n",
    "E = QHO_2D_E(x)\n",
    "\n",
    "plt.imshow(E)\n",
    "plt.colorbar()"
   ]
  },
  {
   "cell_type": "code",
   "execution_count": 11,
   "metadata": {},
   "outputs": [
    {
     "name": "stdout",
     "output_type": "stream",
     "text": [
      "     fun: array([[1.]])\n",
      "     jac: array([0., 0.])\n",
      " message: 'Optimization terminated successfully.'\n",
      "    nfev: 1\n",
      "     nit: 0\n",
      "    njev: 1\n",
      "  status: 0\n",
      " success: True\n",
      "       x: array([0.5, 0.5])\n"
     ]
    }
   ],
   "source": [
    "from scipy import optimize\n",
    "x0 = np.array([0.5,0.5])\n",
    "opt_result = optimize.minimize(QHO_2D_E, x0, method='CG', jac=QHO_2D_grad) # Fill in appropriate functions for 1st and 4th arguments\n",
    "\n",
    "print(opt_result)"
   ]
  },
  {
   "cell_type": "code",
   "execution_count": null,
   "metadata": {},
   "outputs": [],
   "source": [
    "# Print resulting minimum, number of iterations using opt_result.x etc\n",
    "# Confirm whether the optimisation was successful"
   ]
  },
  {
   "cell_type": "markdown",
   "metadata": {},
   "source": [
    "### Conclusions\n",
    "You might write something here about what you have learned (one or two lines only!)"
   ]
  },
  {
   "cell_type": "code",
   "execution_count": null,
   "metadata": {},
   "outputs": [],
   "source": []
  }
 ],
 "metadata": {
  "kernelspec": {
   "display_name": "Python 3",
   "language": "python",
   "name": "python3"
  },
  "language_info": {
   "codemirror_mode": {
    "name": "ipython",
    "version": 3
   },
   "file_extension": ".py",
   "mimetype": "text/x-python",
   "name": "python",
   "nbconvert_exporter": "python",
   "pygments_lexer": "ipython3",
   "version": "3.8.1"
  }
 },
 "nbformat": 4,
 "nbformat_minor": 2
}
