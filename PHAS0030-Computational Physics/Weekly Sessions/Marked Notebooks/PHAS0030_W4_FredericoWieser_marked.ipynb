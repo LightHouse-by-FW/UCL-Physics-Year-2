{
 "cells": [
  {
   "cell_type": "markdown",
   "metadata": {},
   "source": [
    "# PHAS0030 Assignment Week 4: Investigating the Energy and Eigenstates for the Particle in a Box\n",
    "\n",
    "In this notebook we will use the NumPy, SciPy, and Matplotlib libraries in order to find the energy and eigenstates for the particle in a box. By both solving the Schrödinger equation as a boundary value problem with numerical merthods and implementing the known analytical solution on a grid.\n",
    "\n",
    "In this notebook we will be using atomic units. Which implies that the following constants are\n",
    "\n",
    "$$\n",
    "m_e = \\hbar = 1\n",
    "$$\n",
    "\n",
    "This condition implies that distance is measured in Bohr radii and energy measured in Hartrees."
   ]
  },
  {
   "cell_type": "code",
   "execution_count": 13,
   "metadata": {
    "collapsed": true
   },
   "outputs": [],
   "source": [
    "import numpy as np\n",
    "import matplotlib.pyplot as plt\n",
    "from scipy import integrate"
   ]
  },
  {
   "cell_type": "markdown",
   "metadata": {},
   "source": [
    "The Schrödinger equation in this notebook is\n",
    "\n",
    "$$\n",
    "-\\frac{1}{2} \\frac{d^2}{dx^2} \\psi(x) = E \\psi(x)\n",
    "$$\n",
    "\n",
    "We will be re-writing this equation in the following form\n",
    "\n",
    "$$\n",
    "\\frac{d \\psi}{dx} = \\phi\n",
    "$$\n",
    "\n",
    "$$\n",
    "\\frac{d \\phi}{dx} = -2 E \\psi\n",
    "$$\n",
    "\n",
    "with our $ x $ holding values from 0 to 1.\n",
    "\n",
    "For this notebook it is important to note the only vlaues of $ E $ which correspond to the eigenstates of the system will match the necessary boundary condition of \n",
    "\n",
    "$$\n",
    "\\psi(x = 1) = 0\n",
    "$$\n"
   ]
  },
  {
   "cell_type": "markdown",
   "metadata": {},
   "source": [
    "### 1. Implementing Schrödinger equation\n",
    "\n",
    "Writing the Schrödinger equation in 2 first order ODEs form and then implementng that in to a function."
   ]
  },
  {
   "cell_type": "code",
   "execution_count": 14,
   "metadata": {
    "collapsed": true
   },
   "outputs": [],
   "source": [
    "def RHS_Schro(y,E):\n",
    "    \"\"\"\n",
    "    Implement RHS of Schrodinger equation\n",
    "    \n",
    "    Input:\n",
    "    y  input values (two component array)\n",
    "    E  Energy\n",
    "    Output:\n",
    "    Differentials (two component array)\n",
    "    \"\"\"\n",
    "    # Separate input\n",
    "    psi = y[0]\n",
    "    phi = y[1]\n",
    "    \n",
    "    # Calculate differentials\n",
    "    dpsi = phi\n",
    "    dphi = -2*E*psi\n",
    "    \n",
    "    return np.array((dpsi,dphi))"
   ]
  },
  {
   "cell_type": "markdown",
   "metadata": {},
   "source": [
    "### 2. RK4 solver"
   ]
  },
  {
   "cell_type": "code",
   "execution_count": 15,
   "metadata": {
    "collapsed": true
   },
   "outputs": [],
   "source": [
    "def RK4_solver(fun,y_0,dx,E,N):\n",
    "    \"\"\"\n",
    "    Solve dy/dt = fun(y,t) using fourth-order RK method.\n",
    "    \n",
    "    Inputs:\n",
    "    fun  f(y,t)\n",
    "    y_0   Initial condition - assumed to be two-component\n",
    "    dx   Spacing in x\n",
    "    E    Parameter to pass to fun\n",
    "    N    Number of steps\n",
    "    \n",
    "    Returns:\n",
    "    two arrays of length N+1 (x and v or equivalent)\n",
    "    \"\"\"\n",
    "    y = np.zeros((N, 2))\n",
    "    y[0] = y_0\n",
    "    t_n = 0\n",
    "    \n",
    "    for i in range(N-1):\n",
    "        \n",
    "        k_1 = dx*fun(y[i], E)\n",
    "        k_2 = dx*fun(y[i] + (k_1/2), E)\n",
    "        k_3 = dx*fun(y[i] + (k_2/2), E)\n",
    "        k_4 = dx*fun(y[i] + k_3, E)\n",
    "        y[i + 1] = y[i] + ((k_1 + 2*k_2 + 2*k_3 + k_4)/6)\n",
    "    \n",
    "    return y"
   ]
  },
  {
   "cell_type": "markdown",
   "metadata": {},
   "source": [
    "### 3. Test for E=1\n",
    "\n",
    "The initial conditions are $ \\psi = 0 $ and $ \\phi = a $, where $ a $ is any non zero value. In this case we have chosen $ a = 1 $."
   ]
  },
  {
   "cell_type": "code",
   "execution_count": 16,
   "metadata": {
    "collapsed": false
   },
   "outputs": [
    {
     "name": "stdout",
     "output_type": "stream",
     "text": [
      "[0.69682677 0.16989676]\n"
     ]
    },
    {
     "data": {
      "image/png": "[encoded data removed]",
      "text/plain": [
       "<Figure size 432x288 with 1 Axes>"
      ]
     },
     "metadata": {
      "needs_background": "light"
     },
     "output_type": "display_data"
    }
   ],
   "source": [
    "# Setting Initial Conditions and Arguments\n",
    "dx = 0.01\n",
    "E_0 = 1\n",
    "a = 1\n",
    "psi_0 = 0\n",
    "phi_0 = a\n",
    "y_0 = np.array((psi_0, phi_0))\n",
    "N = 100\n",
    "\n",
    "# Calling our RK4 function to return array of approximated values for Psi\n",
    "SCHRO = RK4_solver(RHS_Schro,y_0,dx,E_0,N)\n",
    "print(SCHRO[-1])\n",
    "#\n",
    "x = np.linspace(0, len(SCHRO[:,0])*dx, N)\n",
    "plt.plot(x, SCHRO[:,0])\n",
    "plt.grid()\n"
   ]
  },
  {
   "cell_type": "markdown",
   "metadata": {},
   "source": [
    "### 4. Bisection\n",
    "\n",
    "In here we have implemented a bisecton procedure to solve for the correct value of $ E $, in the ground state, satisfying our boundary condition $ \\psi(1) = 0 $"
   ]
  },
  {
   "cell_type": "code",
   "execution_count": 17,
   "metadata": {
    "collapsed": true
   },
   "outputs": [],
   "source": [
    "# Setting tolerance for bisection\n",
    "tol = 0.000001\n",
    "\n",
    "# x value of Psi value we want to extract from our returned array\n",
    "x_find = 1\n",
    "N_find = int(x_find/dx) - 1\n",
    "\n",
    "\n",
    "### Lower limit ###\n",
    "# Energy\n",
    "E_low = 1.0\n",
    "# Value when put into wavefunction\n",
    "psi_low = RK4_solver(RHS_Schro,y_0,dx,E_low,N)[N_find, 0]\n",
    "\n",
    "\n",
    "### Upper limit ###\n",
    "E_high = 11.0\n",
    "psi_high = RK4_solver(RHS_Schro,y_0,dx,E_high,N)[N_find, 0]\n",
    "\n",
    "\n",
    "### Midpoint ###\n",
    "E_mid = (E_low + E_high)/2\n",
    "psi_mid = RK4_solver(RHS_Schro,y_0,dx,E_mid,N)[N_find, 0]\n",
    "\n",
    "# Initialising counter\n",
    "i = 0\n",
    "\n",
    "# Bisection Procedure\n",
    "while abs(psi_mid) > tol:\n",
    "    \n",
    "    i += 1\n",
    "    \n",
    "    if psi_low*psi_mid > 0:\n",
    "        \n",
    "        E_low = E_mid \n",
    "    \n",
    "    else:\n",
    "        \n",
    "        E_high = E_mid\n",
    "\n",
    "    E_mid = (E_low + E_high)/2\n",
    "    psi_mid = RK4_solver(RHS_Schro,y_0,dx,E_mid,N)[N_find, 0]"
   ]
  },
  {
   "cell_type": "code",
   "execution_count": 18,
   "metadata": {
    "collapsed": false
   },
   "outputs": [
    {
     "name": "stdout",
     "output_type": "stream",
     "text": [
      "The energy value from our bisection routine 5.034996032714844\n",
      "The number of itterations from our bisection routine 17\n"
     ]
    }
   ],
   "source": [
    "print(\"The energy value from our bisection routine \" + str(E_mid))\n",
    "print(\"The number of itterations from our bisection routine \" + str(i))\n",
    "\n",
    "#Setting energy value found from bisection as new variable for next question\n",
    "E_wave = E_mid"
   ]
  },
  {
   "cell_type": "markdown",
   "metadata": {},
   "source": [
    "### 5. Normalise and plot\n",
    "\n",
    "To normalise our wave function you need to evaluate the integral\n",
    "\n",
    "$$\n",
    "A = \\int^1_0{|\\psi(x)|^2 dx}\n",
    "$$\n",
    "\n",
    "using the value $ A $ to find the normalied wave function $ \\psi_{N}(x) $ with the formula\n",
    "\n",
    "$$\n",
    "\\psi_{N}(x) = \\frac{\\psi(x)}{\\sqrt{A}}\n",
    "$$"
   ]
  },
  {
   "cell_type": "code",
   "execution_count": 19,
   "metadata": {
    "collapsed": false
   },
   "outputs": [
    {
     "name": "stdout",
     "output_type": "stream",
     "text": [
      "The normalisation factor is  0.22282875441684827\n"
     ]
    },
    {
     "data": {
      "image/png": "[encoded data removed]",
      "text/plain": [
       "<Figure size 432x288 with 1 Axes>"
      ]
     },
     "metadata": {
      "needs_background": "light"
     },
     "output_type": "display_data"
    }
   ],
   "source": [
    "# Extracting whole column of Psi values for Energy value calculated in Q.4.\n",
    "wave_fun = RK4_solver(RHS_Schro,y_0,dx,E_wave,N)[:,0]\n",
    "\n",
    "# Normalising Approximated Psi\n",
    "wave_fun_sqrd_abs = abs(wave_fun)**2\n",
    "norm = integrate.simps(wave_fun_sqrd_abs, x)**0.5\n",
    "print(\"The normalisation factor is \",norm)\n",
    "wave_fun_norm = wave_fun/norm\n",
    "\n",
    "# Plotting both Wave Functions\n",
    "plt.plot(x, wave_fun_norm, label=\"Normalised\")\n",
    "plt.plot(x, wave_fun, label=\"Un-Normalised\")\n",
    "plt.xlabel(\"x, distance (Bohr Radii)\")\n",
    "plt.ylabel(r\"$\\psi(x)$\")\n",
    "plt.title(\"Comparing the Normalised and Un-Normalised Wave Functions\")\n",
    "plt.grid()\n",
    "plt.legend()\n",
    "plt.show()"
   ]
  },
  {
   "cell_type": "markdown",
   "metadata": {},
   "source": [
    "### 6. Compare to analytic wavefunction"
   ]
  },
  {
   "cell_type": "code",
   "execution_count": 20,
   "metadata": {
    "collapsed": false
   },
   "outputs": [
    {
     "name": "stdout",
     "output_type": "stream",
     "text": [
      "The normalisation factor is  0.7071079795312555\n"
     ]
    }
   ],
   "source": [
    "# Creating and normalising analytical solution\n",
    "k = np.pi\n",
    "B = 1\n",
    "psi_ana = B*np.sin(k*x)\n",
    "psi_ana_sqrd_abs = abs(psi_ana)**2\n",
    "norm = integrate.simps(psi_ana_sqrd_abs, x, dx)**0.5\n",
    "print(\"The normalisation factor is \",norm)\n",
    "psi_ana_norm = psi_ana/norm\n",
    "\n",
    "# Creating array with difference between the analytic and aprroximate solutions\n",
    "diff_psi = psi_ana_norm - wave_fun_norm"
   ]
  },
  {
   "cell_type": "code",
   "execution_count": 21,
   "metadata": {
    "collapsed": false
   },
   "outputs": [
    {
     "data": {
      "image/png": "[encoded data removed]",
      "text/plain": [
       "<Figure size 432x288 with 1 Axes>"
      ]
     },
     "metadata": {
      "needs_background": "light"
     },
     "output_type": "display_data"
    }
   ],
   "source": [
    "# Plotting the difference between the analytic and aprroximate solutions\n",
    "plt.plot(x, diff_psi)\n",
    "plt.xlabel(\"x, distance (Bohr Radii)\")\n",
    "plt.ylabel(\"Difference\")\n",
    "plt.title(r\"Comparing the Analytc and Approximated $ \\psi(x) $\")\n",
    "plt.grid()\n",
    "plt.show()"
   ]
  },
  {
   "cell_type": "markdown",
   "metadata": {},
   "source": [
    "### Brief conclusions/commentary"
   ]
  },
  {
   "cell_type": "markdown",
   "metadata": {},
   "source": [
    "After experimenting with multiple values for the tolerance it seems that as we set our tolerance lower and lower not only does the range in the difference values get smaller, but the function also seems to become more sinusoidal, atleast in our range of $ x $ values.\n",
    "\n",
    "This notebook shows that the RK4 method s very powerful and able to get very accurate results for a very non-significant amount of itterations which is very impressive."
   ]
  },
  {
   "cell_type": "markdown",
   "metadata": {},
   "source": [
    "# Comments\n",
    "\n",
    "### Intro/Conclusion and comparison to analytic solution\n",
    "* Nice intro and conclusion. \n",
    "\n",
    "Marks = 10/10\n",
    "### Setting up the RHS of the Schrodinger Equation\n",
    "  \n",
    "  \n",
    "  \n",
    "  \n",
    "  \n",
    "* The Schrodinger Eq looks correctly set up.\n",
    "\n",
    "Marks = 10/10\n",
    "### Bisection\n",
    "* The energy you get from the bisection is a bit higher than the analytic energy for  a particle in a box which is 0.5*np.pi^2. Check bisection again.\n",
    "\n",
    "\n",
    "\n",
    "Mark = 8/10\n"
   ]
  },
  {
   "cell_type": "code",
   "execution_count": null,
   "metadata": {
    "collapsed": true
   },
   "outputs": [],
   "source": []
  }
 ],
 "metadata": {
  "kernelspec": {
   "display_name": "p36",
   "language": "python",
   "name": "p36"
  },
  "language_info": {
   "codemirror_mode": {
    "name": "ipython",
    "version": 3
   },
   "file_extension": ".py",
   "mimetype": "text/x-python",
   "name": "python",
   "nbconvert_exporter": "python",
   "pygments_lexer": "ipython3",
   "version": "3.6.7"
  }
 },
 "nbformat": 4,
 "nbformat_minor": 2
}
