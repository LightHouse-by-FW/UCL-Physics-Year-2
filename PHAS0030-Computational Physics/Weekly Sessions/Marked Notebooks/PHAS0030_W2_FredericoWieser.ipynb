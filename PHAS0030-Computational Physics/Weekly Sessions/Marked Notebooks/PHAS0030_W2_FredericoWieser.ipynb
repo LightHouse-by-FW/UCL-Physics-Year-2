{
 "cells": [
  {
   "cell_type": "markdown",
   "metadata": {},
   "source": [
    "# Minimum Energy Point of Quantum Harmonic Oscillators\n",
    "\n",
    "## Frederico Wieser 18018699\n",
    "\n",
    "In this notebook we will use NumPy, SciPy and MatPlotLib to explore quantum harmonic oscillators, their wavefunctions, corresponding energy, and gradients.\n",
    "\n",
    "We will use atomic untis in this notebook, for effeciency in our calculations and clarity in the work.\n",
    "\n",
    "Which correpsonds to $ \\hbar = m_e = 1 $\n",
    "\n",
    "We have been given two systems, a one dimensional wavefunction and two dimensional wavefunction. Using this inforation, we also then know the correspond energy equations of the 2 systems.\n",
    "\n",
    "By using the bisection method, a root-finding method, and the Scipy optimize function we are then able to find the roots of the energy gradient for the 1D wavefunction and 2D wavefunction.\n",
    "\n",
    "Which allows us to know where the energy of the system is a minimum for alpha and beta."
   ]
  },
  {
   "cell_type": "code",
   "execution_count": 1,
   "metadata": {
    "collapsed": true
   },
   "outputs": [],
   "source": [
    "import numpy as np\n",
    "import matplotlib.pyplot as plt"
   ]
  },
  {
   "cell_type": "markdown",
   "metadata": {},
   "source": [
    "### Section on 1D QHO\n",
    "\n",
    "Our 1 dimensional wavefunction is\n",
    "\n",
    "$$ \\psi(x) = (2 \\alpha / \\pi)^{1/4} e^{-\\alpha x^2} $$\n",
    "\n",
    "which can be shown to have a corresponding energy of\n",
    "\n",
    "$$ E_{GS} = \\frac{\\alpha}{2} + \\frac{1}{8\\alpha} $$\n",
    "\n",
    "Using the information above we can calculate that the minimum energy with respect to alpha is at the point where\n",
    "\n",
    "$$ \\frac{dE}{d \\alpha} = 0 = \\frac{1}{2} - \\frac{1}{8 \\alpha^2} $$"
   ]
  },
  {
   "cell_type": "code",
   "execution_count": 2,
   "metadata": {
    "collapsed": true
   },
   "outputs": [],
   "source": [
    "def bisection(fun,a,b,tol):\n",
    "    \"\"\"\n",
    "    A root-finding algorithm for functions where you input\n",
    "    values of upper and lower bound, which the root lies between.\n",
    "    Returning the number of itterations to satisfy tolerance,\n",
    "    and estimate for c, the root.\n",
    "    \n",
    "    Inputs:\n",
    "    a = lower bound\n",
    "    b = upper bound\n",
    "    tol = tolerance of uncertainty in c\n",
    "    fun = function you are finding root\n",
    "    \n",
    "    Returns:\n",
    "    i = the number of iterations it takes to satisfy the tolerance\n",
    "    c = the estimation for the root\n",
    "    \"\"\"\n",
    "    \n",
    "    tol_value = abs(a-b)\n",
    "    \n",
    "    i = 0 # Counter\n",
    "    \n",
    "    while tol_value > tol:\n",
    "    \n",
    "        # Calculate C\n",
    "        c = (a + b)/2\n",
    "\n",
    "        # Evaluate f(a) and f(b)\n",
    "        f_a = fun(a)\n",
    "        f_b = fun(b)\n",
    "        f_c = fun(c)\n",
    "\n",
    "        # Calculate signs \n",
    "        f_a_sign = np.sign(f_a)\n",
    "        f_c_sign = np.sign(f_c)\n",
    "\n",
    "        # If statement to replace a or b with c\n",
    "        # depending on sign of f_c\n",
    "        if f_a_sign == f_c_sign:\n",
    "            a = c\n",
    "        else:\n",
    "            b = c\n",
    "        \n",
    "        i += 1\n",
    "        tol_value = abs(a-b)\n",
    "    \n",
    "    return c, i"
   ]
  },
  {
   "cell_type": "code",
   "execution_count": 3,
   "metadata": {
    "collapsed": true
   },
   "outputs": [],
   "source": [
    "def QHO_E(alpha):\n",
    "    \"\"\"\n",
    "    Energy function for 1-Dimensional Wave Equation.\n",
    "    \"\"\"\n",
    "    \n",
    "    a = alpha\n",
    "    \n",
    "    E_GS =  (a/2) + (1/(8*a))\n",
    "    \n",
    "    return E_GS"
   ]
  },
  {
   "cell_type": "code",
   "execution_count": 4,
   "metadata": {
    "collapsed": true
   },
   "outputs": [],
   "source": [
    "def QHO_grad(alpha):\n",
    "    \"\"\"\n",
    "    Energy gradient function for 1-Dimensional Wave Equation, with\n",
    "    respect to alpha.\n",
    "    \"\"\"\n",
    "    \n",
    "    a = alpha\n",
    "    \n",
    "    dE_GS_da = 0.5 - (1/(8*(a**2)))\n",
    "    \n",
    "    return dE_GS_da"
   ]
  },
  {
   "cell_type": "code",
   "execution_count": 5,
   "metadata": {
    "collapsed": false
   },
   "outputs": [
    {
     "data": {
      "text/plain": [
       "[<matplotlib.lines.Line2D at 0x7fde920bb8d0>]"
      ]
     },
     "execution_count": 5,
     "metadata": {},
     "output_type": "execute_result"
    },
    {
     "data": {
      "image/png": "[encoded data removed]",
      "text/plain": [
       "<Figure size 432x288 with 1 Axes>"
      ]
     },
     "metadata": {
      "needs_background": "light"
     },
     "output_type": "display_data"
    }
   ],
   "source": [
    "# Defining x-values for the 1D energy function to be plotted over\n",
    "x = np.linspace(0.4,0.8,100)\n",
    "\n",
    "plt.title(\"Energy Gradient of 1D Wavefunction\")\n",
    "plt.xlabel(\"alpha\")\n",
    "plt.ylabel(\"Energy Gradient\")\n",
    "plt.plot(x, QHO_grad(x))"
   ]
  },
  {
   "cell_type": "code",
   "execution_count": 6,
   "metadata": {
    "collapsed": false
   },
   "outputs": [
    {
     "name": "stdout",
     "output_type": "stream",
     "text": [
      "0.49375 4\n"
     ]
    }
   ],
   "source": [
    "# Define brackets and tolerance\n",
    "a = 0.45\n",
    "b = 0.55\n",
    "tol = 0.01\n",
    "\n",
    "# Output result\n",
    "alpha_0, n = bisection(QHO_grad,a,b,tol)\n",
    "print(alpha_0, n)"
   ]
  },
  {
   "cell_type": "markdown",
   "metadata": {},
   "source": [
    "From the above results we can tell that the root value calculated is\n",
    "\n",
    "$$ \\alpha_0 = 0.49375 \\approx 0.5 $$ \n",
    "\n",
    "which took the bisection algorithm 4 itterations to calculate."
   ]
  },
  {
   "cell_type": "markdown",
   "metadata": {},
   "source": [
    "### Section on 2D QHO\n",
    "\n",
    "Our 2 dimensional wavefunction is\n",
    "\n",
    "$$ \\psi(x, y) = (2 \\alpha / \\pi)^{1/4} e^{-\\alpha x^2} (2 \\beta / \\pi)^{1/4} e^{-\\beta x^2} $$\n",
    "\n",
    "which can be shown to have a corresponding energy of\n",
    "\n",
    "$$ E_{GS} = \\frac{\\alpha}{2} + \\frac{1}{8\\alpha} + \\frac{\\beta}{2} + \\frac{1}{8\\beta} $$\n",
    "\n",
    "Using the information above we can calculate that the minimum energy with respect to alpha is at the point where\n",
    "\n",
    "$$ \\frac{\\partial E}{\\partial \\alpha} = 0 = \\frac{1}{2} - \\frac{1}{8 \\alpha^2} $$\n",
    "\n",
    "$$ \\frac{\\partial E}{\\partial \\beta} = 0 = \\frac{1}{2} - \\frac{1}{8 \\beta^2} $$\n"
   ]
  },
  {
   "cell_type": "code",
   "execution_count": 7,
   "metadata": {
    "collapsed": true
   },
   "outputs": [],
   "source": [
    "def QHO_2D_E(x):\n",
    "    \"\"\"\n",
    "    Energy function for 2-Dimensional Wave Equation.\n",
    "    \"\"\"\n",
    "    \n",
    "    a = x[0]\n",
    "    b = x[1]\n",
    "    \n",
    "    a2D, b2D = np.meshgrid(a, b)\n",
    "    \n",
    "    E_GS = (a2D/2) + (1/(8*a2D)) + (b2D/2) + (1/(8*b2D))\n",
    "    \n",
    "    return E_GS"
   ]
  },
  {
   "cell_type": "code",
   "execution_count": 8,
   "metadata": {
    "collapsed": true
   },
   "outputs": [],
   "source": [
    "def QHO_2D_grad(x):\n",
    "    \"\"\"\n",
    "    Energy gradient function for 2-Dimensional Wave Equation, with\n",
    "    respect to alpha.\n",
    "    \"\"\"\n",
    "\n",
    "    a = x[0]\n",
    "    b = x[1]\n",
    "    \n",
    "    dE_GS_da = 0.5 - (1/(8*(a**2)))\n",
    "    \n",
    "    dE_GS_db = 0.5 - (1/(8*(b**2)))\n",
    "    \n",
    "    return np.array([dE_GS_da ,dE_GS_db])"
   ]
  },
  {
   "cell_type": "code",
   "execution_count": 9,
   "metadata": {
    "collapsed": false
   },
   "outputs": [
    {
     "data": {
      "image/png": "[encoded data removed]",
      "text/plain": [
       "<Figure size 432x288 with 2 Axes>"
      ]
     },
     "metadata": {
      "needs_background": "light"
     },
     "output_type": "display_data"
    }
   ],
   "source": [
    "# Defining our variables for the 2D wavefunction\n",
    "\n",
    "alpha = np.linspace(0.1,1,100)\n",
    "beta = np.linspace(0.1,1,100)\n",
    "\n",
    "x = np.array([alpha, beta])\n",
    "\n",
    "E = QHO_2D_E(x)\n",
    "\n",
    "plt.title(\"Energy of 2D Wavefunction\")\n",
    "plt.xlabel(\"alpha\")\n",
    "plt.ylabel(\"beta\")\n",
    "plt.imshow(E, origin='lower')\n",
    "plt.colorbar().set_label(\"Energy\")"
   ]
  },
  {
   "cell_type": "code",
   "execution_count": 10,
   "metadata": {
    "collapsed": false
   },
   "outputs": [
    {
     "name": "stdout",
     "output_type": "stream",
     "text": [
      "[0.5 0.5]\n",
      "4\n",
      "True\n"
     ]
    }
   ],
   "source": [
    "# Using SciPy to find the point where the energy of\n",
    "# the quantum harmonic oscillator in 2D\n",
    "from scipy import optimize\n",
    "x0 = np.array([0.45, 0.55])\n",
    "opt_result = optimize.minimize(QHO_2D_E, x0, method='CG', jac=QHO_2D_grad) # Fill in appropriate functions for 1st and 4th arguments\n",
    "\n",
    "\n",
    "print(opt_result.x)\n",
    "print(opt_result.nit)\n",
    "print(opt_result.success)"
   ]
  },
  {
   "cell_type": "markdown",
   "metadata": {},
   "source": [
    "From the above results we can tell that the root value calculated is\n",
    "\n",
    "$$ \\alpha_0 = 0.5 $$\n",
    "$$ \\beta_0 = 0.5 $$\n",
    "\n",
    "which took the SciPy algorithm 4 itterations to calculate. We are also able to see that the algorithm ran successfully with the printing of the opt_result.success"
   ]
  },
  {
   "cell_type": "markdown",
   "metadata": {},
   "source": [
    "### Conclusions\n",
    "\n",
    "In this notebook I learned how to find solutions to single variable functions using the bisection method. I also learned how to find solutions when looking at multivariable functions using the SciPy optimize class."
   ]
  },
  {
   "cell_type": "markdown",
   "metadata": {},
   "source": [
    "# COMMENTS\n",
    "\n",
    "You answered all the points correctly and wrote the code and plots in a nice way.\n",
    "\n",
    "\n",
    "MARKS:\n",
    "- Intro/conclusion/text = 10/10\n",
    "- 1D QHO = 10/10\n",
    "- 2D QHO = 10/10"
   ]
  },
  {
   "cell_type": "code",
   "execution_count": null,
   "metadata": {
    "collapsed": true
   },
   "outputs": [],
   "source": []
  }
 ],
 "metadata": {
  "kernelspec": {
   "display_name": "p36",
   "language": "python",
   "name": "p36"
  },
  "language_info": {
   "codemirror_mode": {
    "name": "ipython",
    "version": 3
   },
   "file_extension": ".py",
   "mimetype": "text/x-python",
   "name": "python",
   "nbconvert_exporter": "python",
   "pygments_lexer": "ipython3",
   "version": "3.6.7"
  }
 },
 "nbformat": 4,
 "nbformat_minor": 2
}
